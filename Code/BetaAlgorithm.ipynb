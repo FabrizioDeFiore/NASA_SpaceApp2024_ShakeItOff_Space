{
 "cells": [
  {
   "cell_type": "markdown",
   "metadata": {},
   "source": [
    "### Reusable \n"
   ]
  },
  {
   "cell_type": "markdown",
   "metadata": {},
   "source": [
    "Imports\n"
   ]
  },
  {
   "cell_type": "code",
   "execution_count": 18,
   "metadata": {},
   "outputs": [],
   "source": [
    "# Import libraries\n",
    "import numpy as np\n",
    "import pandas as pd\n",
    "from obspy import read\n",
    "from datetime import datetime, timedelta\n",
    "import matplotlib.pyplot as plt\n",
    "import os"
   ]
  },
  {
   "cell_type": "markdown",
   "metadata": {},
   "source": [
    "File References"
   ]
  },
  {
   "cell_type": "code",
   "execution_count": 19,
   "metadata": {},
   "outputs": [],
   "source": [
    "apollo12_cat_directory = '../NASAResources/space_apps_2024_seismic_detection/data/lunar/test/data/S12_GradeB/'\n",
    "filename = 'xa.s12.00.mhz.1969-12-16HR00_evid00006'\n"
   ]
  },
  {
   "cell_type": "markdown",
   "metadata": {},
   "source": [
    "\n",
    "#### Read the first table of the Apollo 12 Grade B as cvs file\n"
   ]
  },
  {
   "cell_type": "code",
   "execution_count": 20,
   "metadata": {},
   "outputs": [
    {
     "data": {
      "text/html": [
       "<div>\n",
       "<style scoped>\n",
       "    .dataframe tbody tr th:only-of-type {\n",
       "        vertical-align: middle;\n",
       "    }\n",
       "\n",
       "    .dataframe tbody tr th {\n",
       "        vertical-align: top;\n",
       "    }\n",
       "\n",
       "    .dataframe thead th {\n",
       "        text-align: right;\n",
       "    }\n",
       "</style>\n",
       "<table border=\"1\" class=\"dataframe\">\n",
       "  <thead>\n",
       "    <tr style=\"text-align: right;\">\n",
       "      <th></th>\n",
       "      <th>time_abs(%Y-%m-%dT%H:%M:%S.%f)</th>\n",
       "      <th>time_rel(sec)</th>\n",
       "      <th>velocity(m/s)</th>\n",
       "    </tr>\n",
       "  </thead>\n",
       "  <tbody>\n",
       "    <tr>\n",
       "      <th>0</th>\n",
       "      <td>1969-12-16T00:00:00.178000</td>\n",
       "      <td>0.000000</td>\n",
       "      <td>0.000000e+00</td>\n",
       "    </tr>\n",
       "    <tr>\n",
       "      <th>1</th>\n",
       "      <td>1969-12-16T00:00:00.328943</td>\n",
       "      <td>0.150943</td>\n",
       "      <td>-5.580000e-15</td>\n",
       "    </tr>\n",
       "    <tr>\n",
       "      <th>2</th>\n",
       "      <td>1969-12-16T00:00:00.479887</td>\n",
       "      <td>0.301887</td>\n",
       "      <td>-1.120000e-14</td>\n",
       "    </tr>\n",
       "    <tr>\n",
       "      <th>3</th>\n",
       "      <td>1969-12-16T00:00:00.630830</td>\n",
       "      <td>0.452830</td>\n",
       "      <td>-1.670000e-14</td>\n",
       "    </tr>\n",
       "    <tr>\n",
       "      <th>4</th>\n",
       "      <td>1969-12-16T00:00:00.781774</td>\n",
       "      <td>0.603774</td>\n",
       "      <td>-2.230000e-14</td>\n",
       "    </tr>\n",
       "    <tr>\n",
       "      <th>...</th>\n",
       "      <td>...</td>\n",
       "      <td>...</td>\n",
       "      <td>...</td>\n",
       "    </tr>\n",
       "    <tr>\n",
       "      <th>572418</th>\n",
       "      <td>1969-12-17T00:00:02.894981</td>\n",
       "      <td>86402.716981</td>\n",
       "      <td>-1.770000e-14</td>\n",
       "    </tr>\n",
       "    <tr>\n",
       "      <th>572419</th>\n",
       "      <td>1969-12-17T00:00:03.045925</td>\n",
       "      <td>86402.867920</td>\n",
       "      <td>-2.540000e-14</td>\n",
       "    </tr>\n",
       "    <tr>\n",
       "      <th>572420</th>\n",
       "      <td>1969-12-17T00:00:03.196868</td>\n",
       "      <td>86403.018868</td>\n",
       "      <td>-3.010000e-14</td>\n",
       "    </tr>\n",
       "    <tr>\n",
       "      <th>572421</th>\n",
       "      <td>1969-12-17T00:00:03.347811</td>\n",
       "      <td>86403.169811</td>\n",
       "      <td>-4.160000e-14</td>\n",
       "    </tr>\n",
       "    <tr>\n",
       "      <th>572422</th>\n",
       "      <td>1969-12-17T00:00:03.498755</td>\n",
       "      <td>86403.320755</td>\n",
       "      <td>-6.320000e-14</td>\n",
       "    </tr>\n",
       "  </tbody>\n",
       "</table>\n",
       "<p>572423 rows × 3 columns</p>\n",
       "</div>"
      ],
      "text/plain": [
       "       time_abs(%Y-%m-%dT%H:%M:%S.%f)  time_rel(sec)  velocity(m/s)\n",
       "0          1969-12-16T00:00:00.178000       0.000000   0.000000e+00\n",
       "1          1969-12-16T00:00:00.328943       0.150943  -5.580000e-15\n",
       "2          1969-12-16T00:00:00.479887       0.301887  -1.120000e-14\n",
       "3          1969-12-16T00:00:00.630830       0.452830  -1.670000e-14\n",
       "4          1969-12-16T00:00:00.781774       0.603774  -2.230000e-14\n",
       "...                               ...            ...            ...\n",
       "572418     1969-12-17T00:00:02.894981   86402.716981  -1.770000e-14\n",
       "572419     1969-12-17T00:00:03.045925   86402.867920  -2.540000e-14\n",
       "572420     1969-12-17T00:00:03.196868   86403.018868  -3.010000e-14\n",
       "572421     1969-12-17T00:00:03.347811   86403.169811  -4.160000e-14\n",
       "572422     1969-12-17T00:00:03.498755   86403.320755  -6.320000e-14\n",
       "\n",
       "[572423 rows x 3 columns]"
      ]
     },
     "execution_count": 20,
     "metadata": {},
     "output_type": "execute_result"
    }
   ],
   "source": [
    "csv_file = pd.read_csv(f'{apollo12_cat_directory}{filename}.csv')\n",
    "csv_file"
   ]
  },
  {
   "cell_type": "markdown",
   "metadata": {},
   "source": [
    "\n",
    "#### Read the first table of the Apollo 12 Grade B as mseed file\n"
   ]
  },
  {
   "cell_type": "code",
   "execution_count": 21,
   "metadata": {},
   "outputs": [
    {
     "data": {
      "text/plain": [
       "         network: XA\n",
       "         station: S12\n",
       "        location: 00\n",
       "         channel: MHZ\n",
       "       starttime: 1969-12-16T00:00:00.178000Z\n",
       "         endtime: 1969-12-17T00:00:03.498755Z\n",
       "   sampling_rate: 6.625\n",
       "           delta: 0.1509433962264151\n",
       "            npts: 572423\n",
       "           calib: 1.0\n",
       "         _format: MSEED\n",
       "           mseed: AttribDict({'dataquality': 'D', 'number_of_records': 1136, 'encoding': 'FLOAT64', 'byteorder': '>', 'record_length': 4096, 'filesize': 4653056})"
      ]
     },
     "execution_count": 21,
     "metadata": {},
     "output_type": "execute_result"
    }
   ],
   "source": [
    "mseed_file = read(f'{apollo12_cat_directory}{filename}.mseed')\n",
    "mseed_file[0].stats"
   ]
  },
  {
   "cell_type": "markdown",
   "metadata": {},
   "source": [
    "#### Testing on potential arrival times, both abs and rel, from the csv \n"
   ]
  },
  {
   "cell_type": "code",
   "execution_count": 22,
   "metadata": {},
   "outputs": [],
   "source": [
    "#row = csv_file.iloc[10750]"
   ]
  },
  {
   "cell_type": "code",
   "execution_count": 23,
   "metadata": {},
   "outputs": [],
   "source": [
    "#arrival_time = datetime.strptime(row['time_abs(%Y-%m-%dT%H:%M:%S.%f)'],'%Y-%m-%dT%H:%M:%S.%f')\n",
    "#arrival_time\n"
   ]
  },
  {
   "cell_type": "code",
   "execution_count": 24,
   "metadata": {},
   "outputs": [],
   "source": [
    "#arrival_time_rel = row['time_rel(sec)']\n",
    "#arrival_time_rel"
   ]
  },
  {
   "cell_type": "markdown",
   "metadata": {},
   "source": [
    "#### Arrival from mseed"
   ]
  },
  {
   "cell_type": "code",
   "execution_count": 25,
   "metadata": {},
   "outputs": [],
   "source": [
    "# This is how you get the data and the time, which is in seconds\n",
    "trace = mseed_file.traces[0].copy()\n",
    "trace_times = trace.times()\n",
    "trace_data = trace.data\n",
    "\n",
    "# # Start time of trace (another way to get the relative arrival time using datetime)\n",
    "# starttime = trace.stats.starttime.datetime\n",
    "# arrival = (arrival_time - starttime).total_seconds()\n",
    "# arrival"
   ]
  },
  {
   "cell_type": "markdown",
   "metadata": {},
   "source": [
    "### Plott & Filtering "
   ]
  },
  {
   "cell_type": "markdown",
   "metadata": {},
   "source": [
    "Filter the data using different bandpasses for testing purposes"
   ]
  },
  {
   "cell_type": "code",
   "execution_count": 26,
   "metadata": {},
   "outputs": [],
   "source": [
    "# Set the minimum frequency\n",
    "minfreq = 0.5\n",
    "maxfreq = 3.0\n",
    "\n",
    "\n",
    "# Going to create a separate trace for the filter data\n",
    "stream_filt = mseed_file.copy()\n",
    "#stream_filt2 = mseed_file.copy()\n",
    "\n",
    "stream_filt.filter('bandpass',freqmin=minfreq,freqmax=maxfreq)\n",
    "#stream_filt2.filter('bandpass',freqmin=minfreq2,freqmax=maxfreq2)\n",
    "\n",
    "trace_filt = stream_filt.traces[0].copy()\n",
    "trace_times_filt = trace_filt.times()\n",
    "trace_data_filt = trace_filt.data"
   ]
  },
  {
   "cell_type": "code",
   "execution_count": 27,
   "metadata": {},
   "outputs": [],
   "source": [
    "# To better see the patterns, we will create a spectrogram using the scipy function\n",
    "# It requires the sampling rate, which we can get from the miniseed header as shown a few cells above\n",
    "from scipy import signal\n",
    "from matplotlib import cm\n",
    "f, t, sxx = signal.spectrogram(trace_data_filt, trace_filt.stats.sampling_rate)"
   ]
  },
  {
   "cell_type": "code",
   "execution_count": 28,
   "metadata": {},
   "outputs": [],
   "source": [
    "# Plot the time series and spectrogram\n",
    "# fig = plt.figure(figsize=(10, 10))\n",
    "# ax = plt.subplot(2, 1, 1)\n",
    "\n",
    "# # Plot trace\n",
    "# ax.plot(trace_times_filt,trace_data_filt)\n",
    "\n",
    "# # Mark detection\n",
    "# ax.axvline(x = arrival, color='red',label='Detection')\n",
    "# ax.legend(loc='upper left')\n",
    "\n",
    "# # Make the plot pretty\n",
    "# ax.set_xlim([min(trace_times_filt),max(trace_times_filt)])\n",
    "# ax.set_ylabel('Velocity (m/s)')\n",
    "# ax.set_xlabel('Time (s)')\n",
    "\n",
    "# ax2 = plt.subplot(2, 1, 2)\n",
    "# vals = ax2.pcolormesh(t, f, sxx, cmap=cm.jet, vmax=5e-17)\n",
    "# ax2.set_xlim([min(trace_times_filt),max(trace_times_filt)])\n",
    "# ax2.set_xlabel(f'Time (Day Hour:Minute)', fontweight='bold')\n",
    "# ax2.set_ylabel('Frequency (Hz)', fontweight='bold')\n",
    "# ax2.axvline(x=arrival, c='red')\n",
    "# cbar = plt.colorbar(vals, orientation='horizontal')\n",
    "# cbar.set_label('Power ((m/s)^2/sqrt(Hz))', fontweight='bold')"
   ]
  },
  {
   "cell_type": "markdown",
   "metadata": {},
   "source": [
    "### STA/LTA algrotihm \n",
    "A STA/LTA algorithm moves two time windows of two lengths (one short, one long) across the seismic data. \n",
    "The algorithm calculates the average amplitude in both windows, and calculates the ratio between them. \n",
    "#### If the data contains an earthquake, then the short-term window containing the earthquake will be much larger than the long-term window -- resulting in a detection. "
   ]
  },
  {
   "cell_type": "code",
   "execution_count": 29,
   "metadata": {},
   "outputs": [
    {
     "data": {
      "text/plain": [
       "Text(0, 0.5, 'Characteristic function')"
      ]
     },
     "execution_count": 29,
     "metadata": {},
     "output_type": "execute_result"
    },
    {
     "data": {
      "image/png": "[encoded data removed]",
      "text/plain": [
       "<Figure size 1200x300 with 1 Axes>"
      ]
     },
     "metadata": {},
     "output_type": "display_data"
    }
   ],
   "source": [
    "from obspy.signal.invsim import cosine_taper\n",
    "from obspy.signal.filter import highpass\n",
    "from obspy.signal.trigger import classic_sta_lta, plot_trigger, trigger_onset\n",
    "\n",
    "# Sampling frequency of our trace \n",
    "# df stands for delta frequency or data frequency \n",
    "df = trace.stats.sampling_rate\n",
    "\n",
    "# How long should the short-term and long-term window be, in seconds?\n",
    "sta_len = 120\n",
    "lta_len = 600\n",
    "\n",
    "# Run Obspy's STA/LTA to obtain a characteristic function\n",
    "# This function basically calculates the ratio of amplitude between the short-term \n",
    "# and long-term windows, moving consecutively in time across the data\n",
    "cft = classic_sta_lta(trace_data, int(sta_len * df), int(lta_len * df))\n",
    "\n",
    "# Plot characteristic function\n",
    "fig,ax = plt.subplots(1,1,figsize=(12,3))\n",
    "ax.plot(trace_times,cft)\n",
    "ax.set_xlim([min(trace_times),max(trace_times)])\n",
    "ax.set_xlabel('Time (s)')\n",
    "ax.set_ylabel('Characteristic function')"
   ]
  },
  {
   "cell_type": "markdown",
   "metadata": {},
   "source": [
    "Next, we define the values of the characteristic function (i.e. amplitude ratio between short-term and long-term windows) where we flag a seismic detection. These values are called triggers. There are two types of triggers -- \"on\" and \"off\", defined as follows:\n",
    "\n",
    "1. \"on\" : If the characteristic function is above this value, then a seismic event begins. \n",
    "2. \"off\" : If the characteristic function falls below this value (after an \"on\" trigger), than a seismic event ends. "
   ]
  },
  {
   "cell_type": "code",
   "execution_count": 1,
   "metadata": {},
   "outputs": [
    {
     "ename": "NameError",
     "evalue": "name 'np' is not defined",
     "output_type": "error",
     "traceback": [
      "\u001b[1;31m---------------------------------------------------------------------------\u001b[0m",
      "\u001b[1;31mNameError\u001b[0m                                 Traceback (most recent call last)",
      "Cell \u001b[1;32mIn[1], line 4\u001b[0m\n\u001b[0;32m      2\u001b[0m thr_on \u001b[38;5;241m=\u001b[39m \u001b[38;5;241m4\u001b[39m\n\u001b[0;32m      3\u001b[0m thr_off \u001b[38;5;241m=\u001b[39m \u001b[38;5;241m3\u001b[39m\n\u001b[1;32m----> 4\u001b[0m on_off \u001b[38;5;241m=\u001b[39m \u001b[43mnp\u001b[49m\u001b[38;5;241m.\u001b[39marray(trigger_onset(cft, thr_on, thr_off))\n\u001b[0;32m      5\u001b[0m \u001b[38;5;66;03m# The first column contains the indices where the trigger is turned \"on\". \u001b[39;00m\n\u001b[0;32m      6\u001b[0m \u001b[38;5;66;03m# The second column contains the indices where the trigger is turned \"off\".\u001b[39;00m\n\u001b[0;32m      7\u001b[0m \n\u001b[0;32m      8\u001b[0m \u001b[38;5;66;03m# Plot on and off triggers\u001b[39;00m\n\u001b[0;32m      9\u001b[0m fig,ax \u001b[38;5;241m=\u001b[39m plt\u001b[38;5;241m.\u001b[39msubplots(\u001b[38;5;241m1\u001b[39m,\u001b[38;5;241m1\u001b[39m,figsize\u001b[38;5;241m=\u001b[39m(\u001b[38;5;241m12\u001b[39m,\u001b[38;5;241m3\u001b[39m))\n",
      "\u001b[1;31mNameError\u001b[0m: name 'np' is not defined"
     ]
    }
   ],
   "source": [
    "# Play around with the on and off triggers, based on values in the characteristic function\n",
    "thr_on = 2\n",
    "thr_off = 0.75\n",
    "on_off = np.array(trigger_onset(cft, thr_on, thr_off))\n",
    "# The first column contains the indices where the trigger is turned \"on\". \n",
    "# The second column contains the indices where the trigger is turned \"off\".\n",
    "\n",
    "# Plot on and off triggers\n",
    "fig,ax = plt.subplots(1,1,figsize=(12,3))\n",
    "for i in np.arange(0,len(on_off)):\n",
    "    triggers = on_off[i]\n",
    "    # ax.axvline(x = trace_times[triggers[0]], color='red', label='Trig. On')\n",
    "    # ax.axvline(x = trace_times[triggers[1]], color='purple', label='Trig. Off')\n",
    "    ax.axvline(x = trace_times[triggers[0]], color='red')\n",
    "    ax.axvline(x = trace_times[triggers[1]], color='purple')\n",
    "\n",
    "# Plot seismogram\n",
    "ax.plot(trace_times,trace_data)\n",
    "ax.set_xlim([min(trace_times),max(trace_times)])\n",
    "ax.legend()"
   ]
  }
 ],
 "metadata": {
  "kernelspec": {
   "display_name": "Python 3",
   "language": "python",
   "name": "python3"
  },
  "language_info": {
   "codemirror_mode": {
    "name": "ipython",
    "version": 3
   },
   "file_extension": ".py",
   "mimetype": "text/x-python",
   "name": "python",
   "nbconvert_exporter": "python",
   "pygments_lexer": "ipython3",
   "version": "3.12.6"
  }
 },
 "nbformat": 4,
 "nbformat_minor": 2
}
