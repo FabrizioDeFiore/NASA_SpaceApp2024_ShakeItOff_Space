{
 "cells": [
  {
   "cell_type": "markdown",
   "metadata": {},
   "source": [
    "Imports"
   ]
  },
  {
   "cell_type": "code",
   "execution_count": 1,
   "metadata": {},
   "outputs": [],
   "source": [
    "import numpy as np\n",
    "import pandas as pd\n",
    "import obspy\n",
    "from obspy import read\n",
    "from scipy.signal import butter, filtfilt, wiener"
   ]
  },
  {
   "cell_type": "markdown",
   "metadata": {},
   "source": [
    "Load and Preprocess the Data"
   ]
  },
  {
   "cell_type": "code",
   "execution_count": null,
   "metadata": {},
   "outputs": [],
   "source": [
    "def load_data(file_path, file_type='csv'):\n",
    "    if file_type == 'csv':\n",
    "        data = pd.read_csv(file_path)\n",
    "        x = data['data'].values\n",
    "        arrival_time = data['arrival_time'].values\n",
    "    elif file_type == 'mseed':\n",
    "        st = read(file_path)\n",
    "        x = st[0].data\n",
    "        arrival_time = st[0].stats.starttime.timestamp\n",
    "    else:\n",
    "        raise ValueError(\"Unsupported file type\")\n",
    "    \n",
    "    y = np.zeros_like(x)\n",
    "    y[int(arrival_time)] = 1\n",
    "    return x, y\n",
    "\n",
    "def bandpass_filter(data, lowcut, highcut, fs, order=4):\n",
    "    nyquist = 0.5 * fs\n",
    "    low = lowcut / nyquist\n",
    "    high = highcut / nyquist\n",
    "    b, a = butter(order, [low, high], btype='band')\n",
    "    y = filtfilt(b, a, data)\n",
    "    return y\n",
    "\n",
    "def preprocess_data(x, fs=100):\n",
    "    x = bandpass_filter(x, 1.0, 10.0, fs)\n",
    "    x = wiener(x)\n",
    "    return x"
   ]
  },
  {
   "cell_type": "markdown",
   "metadata": {},
   "source": [
    "Define the STA/LTA Algorithm"
   ]
  },
  {
   "cell_type": "code",
   "execution_count": null,
   "metadata": {},
   "outputs": [],
   "source": [
    "def recursive_sta_lta(data, nsta, nlta):\n",
    "    sta = np.cumsum(data ** 2)\n",
    "    lta = np.cumsum(data ** 2)\n",
    "    sta[nsta:] = sta[nsta:] - sta[:-nsta]\n",
    "    lta[nlta:] = lta[nlta:] - lta[:-nlta]\n",
    "    sta /= nsta\n",
    "    lta /= nlta\n",
    "    sta_lta = sta / lta\n",
    "    return sta_lta\n",
    "\n",
    "def carl_sta_lta(data, nsta, nlta):\n",
    "    sta = np.cumsum(data ** 2)\n",
    "    lta = np.cumsum(data ** 2)\n",
    "    sta[nsta:] = sta[nsta:] - sta[:-nsta]\n",
    "    lta[nlta:] = lta[nlta:] - lta[:-nlta]\n",
    "    sta /= nsta\n",
    "    lta /= nlta\n",
    "    sta_lta = sta / lta\n",
    "    return sta_lta\n",
    "\n",
    "def short_time_fourier_transform(data, window_size, step_size):\n",
    "    stft = []\n",
    "    for i in range(0, len(data) - window_size, step_size):\n",
    "        window = data[i:i + window_size]\n",
    "        stft.append(np.fft.fft(window))\n",
    "    return np.array(stft)"
   ]
  },
  {
   "cell_type": "markdown",
   "metadata": {},
   "source": [
    "Define the 1D CNN Model"
   ]
  },
  {
   "cell_type": "code",
   "execution_count": 2,
   "metadata": {},
   "outputs": [],
   "source": [
    "import tensorflow as tf\n",
    "from tensorflow.keras.models import Sequential\n",
    "from tensorflow.keras.layers import Conv1D, MaxPooling1D, Flatten, Dense, Input\n",
    "\n",
    "def create_model(input_shape):\n",
    "    model = Sequential([\n",
    "        Input(shape=input_shape),\n",
    "        Conv1D(16, kernel_size=3, activation='relu'),\n",
    "        MaxPooling1D(pool_size=2),\n",
    "        Conv1D(32, kernel_size=3, activation='relu'),\n",
    "        MaxPooling1D(pool_size=2),\n",
    "        Flatten(),\n",
    "        Dense(64, activation='relu'),\n",
    "        Dense(1, activation='sigmoid')\n",
    "    ])\n",
    "    return model"
   ]
  },
  {
   "cell_type": "markdown",
   "metadata": {},
   "source": [
    "Adjust the Loss Function"
   ]
  },
  {
   "cell_type": "code",
   "execution_count": null,
   "metadata": {},
   "outputs": [],
   "source": [
    "def custom_loss(y_true, y_pred):\n",
    "    loss = tf.keras.losses.binary_crossentropy(y_true, y_pred)\n",
    "    weight = tf.where(tf.equal(y_true, 1), 10.0, 1.0)\n",
    "    return loss * weight"
   ]
  },
  {
   "cell_type": "markdown",
   "metadata": {},
   "source": [
    "Train the Model"
   ]
  },
  {
   "cell_type": "code",
   "execution_count": null,
   "metadata": {},
   "outputs": [],
   "source": [
    "def train_model(model, x_train, y_train, epochs=50, batch_size=32):\n",
    "    model.compile(optimizer='adam', loss=custom_loss, metrics=['accuracy'])\n",
    "    model.fit(x_train, y_train, epochs=epochs, batch_size=batch_size, validation_split=0.2)"
   ]
  },
  {
   "cell_type": "markdown",
   "metadata": {},
   "source": [
    " Evaluate the Model"
   ]
  },
  {
   "cell_type": "code",
   "execution_count": null,
   "metadata": {},
   "outputs": [],
   "source": [
    "def evaluate_model(model, x_test, y_test):\n",
    "    loss, accuracy = model.evaluate(x_test, y_test)\n",
    "    print(f'Test Accuracy: {accuracy:.4f}')"
   ]
  },
  {
   "cell_type": "markdown",
   "metadata": {},
   "source": [
    "Main Script"
   ]
  },
  {
   "cell_type": "code",
   "execution_count": null,
   "metadata": {},
   "outputs": [],
   "source": [
    "if __name__ == \"__main__\":\n",
    "    # Load and preprocess data\n",
    "    x, y = load_data('data.csv', file_type='csv')\n",
    "    x = preprocess_data(x)\n",
    "    \n",
    "    # Reshape data for CNN\n",
    "    x = x.reshape(-1, len(x), 1)\n",
    "    y = y.reshape(-1, len(y), 1)\n",
    "    \n",
    "    # Create and train the model\n",
    "    model = create_model(input_shape=(x.shape[1], 1))\n",
    "    train_model(model, x, y, epochs=50, batch_size=32)\n",
    "    \n",
    "    # Evaluate the model\n",
    "    evaluate_model(model, x, y)"
   ]
  }
 ],
 "metadata": {
  "kernelspec": {
   "display_name": "Python 3",
   "language": "python",
   "name": "python3"
  },
  "language_info": {
   "codemirror_mode": {
    "name": "ipython",
    "version": 3
   },
   "file_extension": ".py",
   "mimetype": "text/x-python",
   "name": "python",
   "nbconvert_exporter": "python",
   "pygments_lexer": "ipython3",
   "version": "3.12.6"
  }
 },
 "nbformat": 4,
 "nbformat_minor": 2
}
