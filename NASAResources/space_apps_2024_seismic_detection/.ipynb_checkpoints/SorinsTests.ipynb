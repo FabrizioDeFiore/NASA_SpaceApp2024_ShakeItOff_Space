{
 "cells": [
  {
   "cell_type": "code",
   "execution_count": 14,
   "metadata": {},
   "outputs": [],
   "source": [
    "import os\n",
    "import pandas as pd\n",
    "import numpy as np\n",
    "import tensorflow as tf\n",
    "from tensorflow.keras import layers\n",
    "\n",
    "# Load CSV data\n",
    "def load_data(data_folder):\n",
    "    dataframes = []\n",
    "    for filename in os.listdir(data_folder):\n",
    "        if filename.endswith(\".csv\"):\n",
    "            filepath = os.path.join(data_folder, filename)\n",
    "            df = pd.read_csv(filepath)\n",
    "            dataframes.append(df)\n",
    "    return pd.concat(dataframes)\n",
    "\n",
    "# Example folder path\n",
    "data_folder = r'D:\\Work\\GitHub\\NASA_SpaceApp2024_ShakeItOff_Space\\NASAResources\\space_apps_2024_seismic_detection\\data\\lunar\\training\\data\\S12_GradeA'\n",
    "\n",
    "# Load the catalog (starting points of quakes)\n",
    "catalog_path = r'D:\\Work\\GitHub\\NASA_SpaceApp2024_ShakeItOff_Space\\NASAResources\\space_apps_2024_seismic_detection\\data\\lunar\\training\\catalogs\\apollo12_catalog_GradeA_final.csv'\n",
    "catalog = pd.read_csv(catalog_path)\n",
    "\n",
    "# Load training data\n",
    "data = load_data(data_folder)"
   ]
  },
  {
   "cell_type": "code",
   "execution_count": 20,
   "metadata": {},
   "outputs": [],
   "source": [
    "# Processing data folder\n",
    "data['time_rel'] = data['time_rel(sec)'].astype(float)\n",
    "data['velocity'] = data['velocity(m/s)']\n",
    "\n",
    "# Processing catalog\n",
    "catalog['time_rel'] = catalog['time_rel(sec)'].astype(float)"
   ]
  },
  {
   "cell_type": "code",
   "execution_count": 21,
   "metadata": {},
   "outputs": [],
   "source": [
    "\n",
    "\n",
    "def label_data(data, catalog):\n",
    "    labels = []\n",
    "    for index, row in data.iterrows():\n",
    "        label = 0  # Default: not a quake start\n",
    "        for _, quake in catalog.iterrows():\n",
    "            if row['time_rel'] == quake['time_rel']:  # Check if time_rel matches quake start\n",
    "                label = 1\n",
    "                break\n",
    "        labels.append(label)\n",
    "    return np.array(labels)\n",
    "\n",
    "features = data[['time_rel', 'velocity']]\n",
    "labels = label_data(data, catalog)"
   ]
  },
  {
   "cell_type": "code",
   "execution_count": null,
   "metadata": {},
   "outputs": [],
   "source": [
    "quake_start_count = np.sum(labels)\n",
    "print(quake_start_count)"
   ]
  }
 ],
 "metadata": {
  "kernelspec": {
   "display_name": "Python 3",
   "language": "python",
   "name": "python3"
  },
  "language_info": {
   "codemirror_mode": {
    "name": "ipython",
    "version": 3
   },
   "file_extension": ".py",
   "mimetype": "text/x-python",
   "name": "python",
   "nbconvert_exporter": "python",
   "pygments_lexer": "ipython3",
   "version": "3.12.6"
  }
 },
 "nbformat": 4,
 "nbformat_minor": 2
}
