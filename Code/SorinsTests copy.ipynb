{
 "cells": [
  {
   "cell_type": "code",
   "execution_count": 103,
   "metadata": {},
   "outputs": [],
   "source": [
    "import os\n",
    "import pandas as pd\n",
    "import numpy as np\n",
    "import tensorflow as tf\n",
    "from tensorflow.keras import layers\n",
    "from datetime import datetime\n",
    "\n",
    "# Load CSV data\n",
    "# def load_data(data_folder):\n",
    "#     dataframes = []\n",
    "#     for filename in os.listdir(data_folder):\n",
    "#         if filename.endswith(\".csv\"):\n",
    "#             filepath = os.path.join(data_folder, filename)\n",
    "#             df = pd.read_csv(filepath)\n",
    "#             dataframes.append(df)\n",
    "#     return pd.concat(dataframes)\n",
    "\n",
    "# Example folder path\n",
    "data_folder = '../NASAResources/space_apps_2024_seismic_detection/data/lunar/training/data/S12_GradeA/xa.s12.00.mhz.1970-01-19HR00_evid00002.csv'\n",
    "# Load the catalog (starting points of quakes)\n",
    "catalog_path = '../NASAResources/space_apps_2024_seismic_detection/data/lunar/training/catalogs/apollo12_catalog_GradeA_final.csv'\n",
    "catalog = pd.read_csv(catalog_path)\n",
    "\n",
    "# Load training data\n",
    "#data = load_data(data_folder)\n",
    "\n",
    "\n",
    "# Delete this\n",
    "data = pd.read_csv(data_folder)"
   ]
  },
  {
   "cell_type": "code",
   "execution_count": 104,
   "metadata": {},
   "outputs": [],
   "source": [
    "\n",
    "# #import multiprocessing, very slow as it uses one core\n",
    "\n",
    "# def label_data(data, catalog):\n",
    "#     labels = []\n",
    "#     for index, row in data.iterrows():\n",
    "#         label = 0  # Default: not a quake start\n",
    "#         for _, quake in catalog.iterrows():\n",
    "#             if row['time_rel'] == quake['time_rel']:  # Check if time_rel matches quake start\n",
    "#                 label = 1\n",
    "#                 break\n",
    "#         labels.append(label)\n",
    "#     return np.array(labels)\n",
    "\n",
    "# features = data[['time_rel', 'velocity']]\n",
    "# labels = label_data(data, catalog)"
   ]
  },
  {
   "cell_type": "code",
   "execution_count": 109,
   "metadata": {},
   "outputs": [],
   "source": [
    "\n",
    "\n",
    "# Function to reformat the absolute time by setting the fractional seconds to .00000\n",
    "def reformat_abs_time(time_str):\n",
    "    dt = datetime.strptime(time_str, '%Y-%m-%dT%H:%M:%S.%f')\n",
    "    reformatted_time = dt.strftime('%Y-%m-%dT%H:%M:00') + '.000000'\n",
    "    return reformatted_time\n",
    "\n",
    "\n",
    "# Apply the reformatting function to the 'time_abs' column\n",
    "data['time_abs'] = data['time_abs(%Y-%m-%dT%H:%M:%S.%f)'].apply(reformat_abs_time)\n",
    "\n",
    "# Processing data folder\n",
    "data['time_rel'] = data['time_rel(sec)'].astype(float)\n",
    "data['velocity'] = data['velocity(m/s)']\n",
    "\n",
    "features = data[['time_rel', 'velocity', 'time_abs']]\n",
    "\n",
    "catalog['time_rel'] = catalog['time_rel(sec)'].astype(float)\n",
    "catalog['time_abs'] = catalog['time_abs(%Y-%m-%dT%H:%M:%S.%f)']\n",
    "\n",
    "\n",
    "\n"
   ]
  },
  {
   "cell_type": "code",
   "execution_count": 106,
   "metadata": {},
   "outputs": [
    {
     "name": "stdout",
     "output_type": "stream",
     "text": [
      "1970-12-11T07:22:00.000000\n"
     ]
    }
   ],
   "source": [
    "# Print the first absolute time found in the data DataFrame\n",
    "print(catalog['time_abs'].iloc[12])"
   ]
  },
  {
   "cell_type": "code",
   "execution_count": 110,
   "metadata": {},
   "outputs": [],
   "source": [
    "\n",
    "# def label_data(data, catalog):\n",
    "#     # Extract absolute times from catalog and data\n",
    "#     quake_start_times_abs = catalog['time_abs'].to_numpy()\n",
    "#     data_times_abs = data['time_abs'].to_numpy()\n",
    "    \n",
    "#     # Initial check on absolute times\n",
    "#     abs_labels = np.isin(data_times_abs, quake_start_times_abs).astype(int)\n",
    "    \n",
    "#     # Extract relative times from catalog and data\n",
    "#     quake_start_times_rel = catalog['time_rel'].to_numpy()\n",
    "#     data_times_rel = data['time_rel'].to_numpy()\n",
    "    \n",
    "#     # Second check on relative times for rows where absolute time matches\n",
    "#     rel_labels = np.zeros_like(abs_labels)\n",
    "#     matching_indices = np.where(abs_labels == 1)[0]\n",
    "#     rel_labels[matching_indices] = np.isin(data_times_rel[matching_indices], quake_start_times_rel).astype(int)\n",
    "    \n",
    "#     # Combine results: only keep labels where both checks are true\n",
    "#     final_labels = abs_labels & rel_labels\n",
    "    \n",
    "#     return final_labels\n",
    "\n",
    "# labels = label_data(data, catalog)\n",
    "# print(labels)\n",
    "\n",
    "\n",
    "def label_data(data, catalog):\n",
    "    # Convert catalog time_rel to a numpy array for fast lookups\n",
    "    quake_start_times = catalog['time_rel'].to_numpy()\n",
    "    \n",
    "    # Create an array of labels\n",
    "    labels = np.isin(data['time_rel'].to_numpy(), quake_start_times).astype(int)\n",
    "    return labels\n",
    "\n",
    "    # Apply labeling\n",
    "    labels = label_data(data, catalog)\n",
    "\n"
   ]
  },
  {
   "cell_type": "code",
   "execution_count": 111,
   "metadata": {},
   "outputs": [
    {
     "name": "stdout",
     "output_type": "stream",
     "text": [
      "0\n"
     ]
    }
   ],
   "source": [
    "quake_start_count = np.sum(labels)\n",
    "print(quake_start_count)"
   ]
  }
 ],
 "metadata": {
  "kernelspec": {
   "display_name": "Python 3",
   "language": "python",
   "name": "python3"
  },
  "language_info": {
   "codemirror_mode": {
    "name": "ipython",
    "version": 3
   },
   "file_extension": ".py",
   "mimetype": "text/x-python",
   "name": "python",
   "nbconvert_exporter": "python",
   "pygments_lexer": "ipython3",
   "version": "3.12.6"
  }
 },
 "nbformat": 4,
 "nbformat_minor": 2
}
