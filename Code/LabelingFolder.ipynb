{
 "cells": [
  {
   "cell_type": "code",
   "execution_count": 12,
   "metadata": {},
   "outputs": [],
   "source": [
    "import os\n",
    "import pandas as pd\n",
    "import numpy as np\n",
    "import tensorflow as tf\n",
    "from datetime import datetime\n",
    "\n",
    "# Example folder path\n",
    "data_path = '../NASAResources/space_apps_2024_seismic_detection/data/lunar/training/data/S12_GradeA/xa.s12.00.mhz.1970-04-25HR00_evid00006.csv'\n",
    "folder_path = '../NASAResources/space_apps_2024_seismic_detection/data/lunar/training/data/S12_GradeA'\n",
    "# Load the catalog (starting points of quakes)\n",
    "catalog_path = '../NASAResources/space_apps_2024_seismic_detection/data/lunar/training/catalogs/apollo12_catalog_GradeA_final.csv'\n",
    "catalog = pd.read_csv(catalog_path)\n",
    "#data = pd.read_csv(data_path)"
   ]
  },
  {
   "cell_type": "code",
   "execution_count": 13,
   "metadata": {},
   "outputs": [],
   "source": [
    "# Function to reformat the absolute time by setting the fractional seconds to .00000\n",
    "def reformat_abs_time(time_str):\n",
    "    dt = datetime.strptime(time_str, '%Y-%m-%dT%H:%M:%S.%f')\n",
    "    reformatted_time = dt.strftime('%Y-%m-%dT%H:%M:00') + '.000000'\n",
    "    return reformatted_time\n",
    "\n",
    "def reformat_data_file(data):\n",
    "    # Apply the reformatting function to the 'time_abs' column\n",
    "    data['time_abs'] = data['time_abs(%Y-%m-%dT%H:%M:%S.%f)'].apply(reformat_abs_time)\n",
    "    # Processing data folder\n",
    "    data['time_rel'] = data['time_rel(sec)'].astype(int)\n",
    "    data['velocity'] = data['velocity(m/s)']\n",
    "    return data\n",
    "\n",
    "#features = data[['time_rel', 'velocity', 'time_abs']]\n",
    "\n",
    "catalog['time_rel'] = catalog['time_rel(sec)'].astype(int)\n",
    "catalog['time_abs'] = catalog['time_abs(%Y-%m-%dT%H:%M:%S.%f)']\n"
   ]
  },
  {
   "cell_type": "code",
   "execution_count": 14,
   "metadata": {},
   "outputs": [],
   "source": [
    "#print(data['time_rel'].iloc[486944])"
   ]
  },
  {
   "cell_type": "code",
   "execution_count": 15,
   "metadata": {},
   "outputs": [
    {
     "name": "stdout",
     "output_type": "stream",
     "text": [
      "Labeling completed for all CSV files in the folder.\n"
     ]
    }
   ],
   "source": [
    "def label_data(data, catalog):\n",
    "    # Create a boolean mask for matching time_rel\n",
    "    mask_rel = data['time_rel'].isin(catalog['time_rel'])\n",
    "    filtered_data = data[mask_rel]\n",
    "    filtered_catalog = catalog[catalog['time_rel'].isin(filtered_data['time_rel'])]\n",
    "    # Create a boolean mask for matching time_abs in the filtered data\n",
    "    mask_abs = filtered_data.apply(lambda row: row['time_abs'] in filtered_catalog[filtered_catalog['time_rel'] == row['time_rel']]['time_abs'].values, axis=1)\n",
    "    # Initialize labels array with zeros\n",
    "    labels = np.zeros(len(data), dtype=int)\n",
    "    # Set labels to 1 where both masks are True\n",
    "    labels[mask_rel[mask_rel].index[mask_abs]] = 1\n",
    "    return labels\n",
    "\n",
    "# Iterate over all CSV files in the folder\n",
    "for filename in os.listdir(folder_path):\n",
    "    if filename.endswith('.csv'):\n",
    "        file_path = os.path.join(folder_path, filename)\n",
    "        # Load CSV data\n",
    "        data = pd.read_csv(file_path)\n",
    "        # Reformat the data file for finding the matching time_abs & time_rel\n",
    "        reformat_data_file(data)\n",
    "        # Apply labeling\n",
    "        labels = label_data(data, catalog)\n",
    "        # Add labels as a new column to the DataFrame\n",
    "        data['labels'] = labels\n",
    "        # Save the updated DataFrame back to the CSV file\n",
    "        data.to_csv(file_path, index=False)\n",
    "\n",
    "print(\"Labeling completed for all CSV files in the folder.\")\n",
    "\n"
   ]
  },
  {
   "cell_type": "code",
   "execution_count": 16,
   "metadata": {},
   "outputs": [],
   "source": [
    "#quake_start_count = np.sum(labels)\n",
    "#print(quake_start_count)"
   ]
  }
 ],
 "metadata": {
  "kernelspec": {
   "display_name": "Python 3",
   "language": "python",
   "name": "python3"
  },
  "language_info": {
   "codemirror_mode": {
    "name": "ipython",
    "version": 3
   },
   "file_extension": ".py",
   "mimetype": "text/x-python",
   "name": "python",
   "nbconvert_exporter": "python",
   "pygments_lexer": "ipython3",
   "version": "3.12.7"
  }
 },
 "nbformat": 4,
 "nbformat_minor": 2
}
