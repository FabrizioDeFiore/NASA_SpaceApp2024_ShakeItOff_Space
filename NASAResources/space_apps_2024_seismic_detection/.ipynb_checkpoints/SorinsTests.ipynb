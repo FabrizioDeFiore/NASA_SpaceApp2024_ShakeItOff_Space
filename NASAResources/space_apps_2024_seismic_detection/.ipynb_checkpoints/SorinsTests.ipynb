{
 "cells": [
  {
   "cell_type": "code",
   "execution_count": 24,
   "metadata": {},
   "outputs": [],
   "source": [
    "import os\n",
    "import pandas as pd\n",
    "import numpy as np\n",
    "import tensorflow as tf\n",
    "from tensorflow.keras import layers\n",
    "\n",
    "# Load CSV data\n",
    "# def load_data(data_folder):\n",
    "#     dataframes = []\n",
    "#     for filename in os.listdir(data_folder):\n",
    "#         if filename.endswith(\".csv\"):\n",
    "#             filepath = os.path.join(data_folder, filename)\n",
    "#             df = pd.read_csv(filepath)\n",
    "#             dataframes.append(df)\n",
    "#     return pd.concat(dataframes)\n",
    "\n",
    "# Example folder path\n",
    "data_folder = r'D:\\Work\\GitHub\\NASA_SpaceApp2024_ShakeItOff_Space\\NASAResources\\space_apps_2024_seismic_detection\\data\\lunar\\training\\data\\S12_GradeA\\xa.s12.00.mhz.1970-01-19HR00_evid00002.csv'\n",
    "\n",
    "# Load the catalog (starting points of quakes)\n",
    "catalog_path = r'D:\\Work\\GitHub\\NASA_SpaceApp2024_ShakeItOff_Space\\NASAResources\\space_apps_2024_seismic_detection\\data\\lunar\\training\\catalogs\\apollo12_catalog_GradeA_final.csv'\n",
    "catalog = pd.read_csv(catalog_path)\n",
    "\n",
    "# Load training data\n",
    "#data = load_data(data_folder)\n",
    "\n",
    "\n",
    "# Delete this\n",
    "data = pd.read_csv(data_folder)"
   ]
  },
  {
   "cell_type": "code",
   "execution_count": 29,
   "metadata": {},
   "outputs": [],
   "source": [
    "# Processing data folder\n",
    "data['time_rel'] = data['time_rel(sec)'].astype(float)\n",
    "data['velocity'] = data['velocity(m/s)']\n",
    "\n",
    "features = data[['time_rel', 'velocity']]\n",
    "\n",
    "# Processing catalog\n",
    "catalog['time_rel'] = catalog['time_rel(sec)'].astype(float)"
   ]
  },
  {
   "cell_type": "code",
   "execution_count": null,
   "metadata": {},
   "outputs": [],
   "source": [
    "\n",
    "#import multiprocessing, very slow as it uses one core\n",
    "\n",
    "def label_data(data, catalog):\n",
    "    labels = []\n",
    "    for index, row in data.iterrows():\n",
    "        label = 0  # Default: not a quake start\n",
    "        for _, quake in catalog.iterrows():\n",
    "            if row['time_rel'] == quake['time_rel']:  # Check if time_rel matches quake start\n",
    "                label = 1\n",
    "                break\n",
    "        labels.append(label)\n",
    "    return np.array(labels)\n",
    "\n",
    "features = data[['time_rel', 'velocity']]\n",
    "labels = label_data(data, catalog)"
   ]
  },
  {
   "cell_type": "code",
   "execution_count": 30,
   "metadata": {},
   "outputs": [],
   "source": [
    "#Numpy label creation, should be faster\n",
    "\n",
    "def label_data(data, catalog):\n",
    "    # Convert catalog time_rel to a numpy array for fast lookups\n",
    "    quake_start_times = catalog['time_rel'].to_numpy()\n",
    "\n",
    "    # Create an array of labels\n",
    "    labels = np.isin(data['time_rel'].to_numpy(), quake_start_times).astype(int)\n",
    "    return labels\n",
    "\n",
    "# Apply labeling\n",
    "labels = label_data(data, catalog)"
   ]
  },
  {
   "cell_type": "code",
   "execution_count": 31,
   "metadata": {},
   "outputs": [
    {
     "name": "stdout",
     "output_type": "stream",
     "text": [
      "36\n"
     ]
    }
   ],
   "source": [
    "quake_start_count = np.sum(labels)\n",
    "print(quake_start_count)"
   ]
  }
 ],
 "metadata": {
  "kernelspec": {
   "display_name": "Python 3",
   "language": "python",
   "name": "python3"
  },
  "language_info": {
   "codemirror_mode": {
    "name": "ipython",
    "version": 3
   },
   "file_extension": ".py",
   "mimetype": "text/x-python",
   "name": "python",
   "nbconvert_exporter": "python",
   "pygments_lexer": "ipython3",
   "version": "3.12.6"
  }
 },
 "nbformat": 4,
 "nbformat_minor": 2
}
