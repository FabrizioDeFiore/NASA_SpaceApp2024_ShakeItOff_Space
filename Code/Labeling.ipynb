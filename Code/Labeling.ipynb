{
 "cells": [
  {
   "cell_type": "code",
   "execution_count": 1,
   "metadata": {},
   "outputs": [],
   "source": [
    "import os\n",
    "import pandas as pd\n",
    "import numpy as np\n",
    "import tensorflow as tf\n",
    "from tensorflow.keras import layers\n",
    "from datetime import datetime\n",
    "\n",
    "# Load CSV data\n",
    "# def load_data(data_folder):\n",
    "#     dataframes = []\n",
    "#     for filename in os.listdir(data_folder):\n",
    "#         if filename.endswith(\".csv\"):\n",
    "#             filepath = os.path.join(data_folder, filename)\n",
    "#             df = pd.read_csv(filepath)\n",
    "#             dataframes.append(df)\n",
    "#     return pd.concat(dataframes)\n",
    "\n",
    "# Example folder path\n",
    "data_folder = '../NASAResources/space_apps_2024_seismic_detection/data/lunar/training/data/S12_GradeA/xa.s12.00.mhz.1970-01-19HR00_evid00002.csv'\n",
    "# Load the catalog (starting points of quakes)\n",
    "catalog_path = '../NASAResources/space_apps_2024_seismic_detection/data/lunar/training/catalogs/apollo12_catalog_GradeA_final.csv'\n",
    "catalog = pd.read_csv(catalog_path)\n",
    "\n",
    "# Load training data\n",
    "#data = load_data(data_folder)\n",
    "\n",
    "\n",
    "# Delete this\n",
    "data = pd.read_csv(data_folder)"
   ]
  },
  {
   "cell_type": "code",
   "execution_count": 2,
   "metadata": {},
   "outputs": [],
   "source": [
    "\n",
    "\n",
    "# Function to reformat the absolute time by setting the fractional seconds to .00000\n",
    "def reformat_abs_time(time_str):\n",
    "    dt = datetime.strptime(time_str, '%Y-%m-%dT%H:%M:%S.%f')\n",
    "    reformatted_time = dt.strftime('%Y-%m-%dT%H:%M:00') + '.000000'\n",
    "    return reformatted_time\n",
    "\n",
    "\n",
    "# Apply the reformatting function to the 'time_abs' column\n",
    "data['time_abs'] = data['time_abs(%Y-%m-%dT%H:%M:%S.%f)'].apply(reformat_abs_time)\n",
    "\n",
    "# Processing data folder\n",
    "data['time_rel'] = data['time_rel(sec)'].astype(int)\n",
    "data['velocity'] = data['velocity(m/s)']\n",
    "\n",
    "features = data[['time_rel', 'velocity', 'time_abs']]\n",
    "\n",
    "catalog['time_rel'] = catalog['time_rel(sec)'].astype(int)\n",
    "catalog['time_abs'] = catalog['time_abs(%Y-%m-%dT%H:%M:%S.%f)']\n",
    "\n",
    "\n",
    "\n"
   ]
  },
  {
   "cell_type": "code",
   "execution_count": 3,
   "metadata": {},
   "outputs": [
    {
     "name": "stdout",
     "output_type": "stream",
     "text": [
      "73500\n"
     ]
    }
   ],
   "source": [
    "# Print the first absolute time found in the data DataFrame\n",
    "print(data['time_rel'].iloc[486944])"
   ]
  },
  {
   "cell_type": "code",
   "execution_count": 4,
   "metadata": {},
   "outputs": [],
   "source": [
    "\n",
    "\n",
    "# def label_data(data, catalog):\n",
    "#     # Convert catalog time_rel to a numpy array for fast lookups\n",
    "#     quake_start_times = catalog['time_rel'].to_numpy()\n",
    "    \n",
    "#     # Create an array of labels\n",
    "#     labels = np.isin(data['time_rel'].to_numpy(), quake_start_times).astype(int)\n",
    "#     return labels\n",
    "\n",
    "#     # Apply labeling\n",
    "# labels = label_data(data, catalog)\n",
    "\n"
   ]
  },
  {
   "cell_type": "code",
   "execution_count": 5,
   "metadata": {},
   "outputs": [],
   "source": [
    "#Numpy label creation, should be faster\n",
    "\n",
    "# def label_data(data, catalog):\n",
    "#     # Convert catalog time_rel to a numpy array for fast lookups\n",
    "#     quake_start_times = catalog['time_rel'].to_numpy()\n",
    "\n",
    "#     # Create an array of labels\n",
    "#     labels_rel = np.isin(data['time_rel'].to_numpy(), quake_start_times).astype(int)\n",
    "#     # if np.where(labels == 1):\n",
    "#     #     quake_start_times = catalog['time_abs'].to_numpy()\n",
    "#     #     labels = np.isin(data['time_abs'].to_numpy(), quake_start_times).astype(int)\n",
    "#     return labels\n",
    "\n",
    "# # Apply labeling\n",
    "# labels = label_data(data, catalog)"
   ]
  },
  {
   "cell_type": "code",
   "execution_count": 6,
   "metadata": {},
   "outputs": [],
   "source": [
    "# def label_data(data, catalog):\n",
    "#     # Convert catalog time_rel to a numpy array for fast lookups\n",
    "#     quake_start_times = data['time_rel'].to_numpy()\n",
    "\n",
    "#     # Create an array of labels\n",
    "#     labels_rel = np.isin(catalog['time_rel'].to_numpy(), quake_start_times).astype(int)\n",
    "    \n",
    "#     # Get the indexes of every 1 in the labels array\n",
    "#     indexes_of_ones = np.where(labels_rel == 1)[0]\n",
    "#     return data.iloc[indexes_of_ones]\n",
    "\n",
    "#     #return indexes_of_ones\n",
    "\n",
    "# # Apply labeling and get indexes\n",
    "# indexes = label_data(data, catalog)\n",
    "# print(indexes)"
   ]
  },
  {
   "cell_type": "code",
   "execution_count": 7,
   "metadata": {},
   "outputs": [],
   "source": [
    "# import numpy as np\n",
    "\n",
    "# def label_data(data, catalog):\n",
    "#     # Convert catalog time_rel to a numpy array for fast lookups\n",
    "#     quake_start_times = catalog['time_rel'].to_numpy()\n",
    "\n",
    "#     # Create an array of labels\n",
    "#     labels_rel = np.isin(data['time_rel'].to_numpy(), quake_start_times).astype(int)\n",
    "    \n",
    "#     return labels_rel\n",
    "\n",
    "# # Apply labeling\n",
    "# labels = label_data(data, catalog)\n",
    "\n",
    "# # Print the values corresponding to the indices where labels are 1\n",
    "# matching_rows = data[labels == 1]\n",
    "# print(matching_rows)\n",
    "\n",
    "# # Calculate and print the quake start count\n",
    "# quake_start_count = np.sum(labels)\n",
    "# print(quake_start_count)"
   ]
  },
  {
   "cell_type": "code",
   "execution_count": 8,
   "metadata": {},
   "outputs": [
    {
     "name": "stdout",
     "output_type": "stream",
     "text": [
      "[0 0 0 ... 0 0 0]\n",
      "       time_abs(%Y-%m-%dT%H:%M:%S.%f)  time_rel(sec)  velocity(m/s)  \\\n",
      "486938     1970-01-19T20:25:00.740472   73500.075472   9.004942e-10   \n",
      "486939     1970-01-19T20:25:00.891415   73500.226415   4.575971e-10   \n",
      "486940     1970-01-19T20:25:01.042358   73500.377358  -4.284551e-10   \n",
      "486941     1970-01-19T20:25:01.193302   73500.528302  -1.209429e-09   \n",
      "486942     1970-01-19T20:25:01.344245   73500.679245  -1.350565e-09   \n",
      "486943     1970-01-19T20:25:01.495189   73500.830189  -6.886146e-10   \n",
      "486944     1970-01-19T20:25:01.646132   73500.981132   4.306897e-10   \n",
      "\n",
      "                          time_abs  time_rel      velocity  \n",
      "486938  1970-01-19T20:25:00.000000     73500  9.004942e-10  \n",
      "486939  1970-01-19T20:25:00.000000     73500  4.575971e-10  \n",
      "486940  1970-01-19T20:25:00.000000     73500 -4.284551e-10  \n",
      "486941  1970-01-19T20:25:00.000000     73500 -1.209429e-09  \n",
      "486942  1970-01-19T20:25:00.000000     73500 -1.350565e-09  \n",
      "486943  1970-01-19T20:25:00.000000     73500 -6.886146e-10  \n",
      "486944  1970-01-19T20:25:00.000000     73500  4.306897e-10  \n"
     ]
    }
   ],
   "source": [
    "quake_start_times_rel = catalog['time_rel'].to_numpy()\n",
    "possible_quake_start_times_rel = data['time_rel'].to_numpy()\n",
    "quake_start_times_abs = catalog['time_abs'].to_numpy()\n",
    "possible_quake_start_times_abs = data['time_abs'].to_numpy()\n",
    "\n",
    "def label_data(data, catalog):  \n",
    "    # labels_rel = np.isin(possible_quake_start_times_rel, quake_start_times_rel )\n",
    "    # labels_abs = np.isin(possible_quake_start_times_abs, quake_start_times_abs)\n",
    "    # matching_values_rel = possible_quake_start_times_rel[labels_rel]\n",
    "    # matching_values_abs = possible_quake_start_times_abs[labels_abs]\n",
    "    # indexes_of_ones = np.where(labels_rel == 1)[0]\n",
    "\n",
    "    # Create a boolean mask for matching time_rel\n",
    "    mask_rel = data['time_rel'].isin(catalog['time_rel'])\n",
    "    # Filter data and catalog based on the mask\n",
    "    filtered_data = data[mask_rel]\n",
    "    filtered_catalog = catalog[catalog['time_rel'].isin(filtered_data['time_rel'])]\n",
    "    # Create a boolean mask for matching time_abs in the filtered data\n",
    "    mask_abs = filtered_data.apply(lambda row: row['time_abs'] in filtered_catalog[filtered_catalog['time_rel'] == row['time_rel']]['time_abs'].values, axis=1)\n",
    "    # Initialize labels array with zeros\n",
    "    labels = np.zeros(len(data), dtype=int)\n",
    "    # Set labels to 1 where both masks are True\n",
    "    labels[mask_rel[mask_rel].index[mask_abs]] = 1\n",
    "    \n",
    "    return labels\n",
    "\n",
    "\n",
    "\n",
    "\n",
    "# Apply labeling\n",
    "labels = label_data(data, catalog)\n",
    "print(labels)\n",
    "# Print the values corresponding to the 7 matches\n",
    "matching_rows = data[labels == 1]\n",
    "print(matching_rows)\n",
    "\n",
    "\n"
   ]
  },
  {
   "cell_type": "code",
   "execution_count": 9,
   "metadata": {},
   "outputs": [
    {
     "name": "stdout",
     "output_type": "stream",
     "text": [
      "7\n"
     ]
    }
   ],
   "source": [
    "quake_start_count = np.sum(labels)\n",
    "print(quake_start_count)"
   ]
  }
 ],
 "metadata": {
  "kernelspec": {
   "display_name": "Python 3",
   "language": "python",
   "name": "python3"
  },
  "language_info": {
   "codemirror_mode": {
    "name": "ipython",
    "version": 3
   },
   "file_extension": ".py",
   "mimetype": "text/x-python",
   "name": "python",
   "nbconvert_exporter": "python",
   "pygments_lexer": "ipython3",
   "version": "3.12.6"
  }
 },
 "nbformat": 4,
 "nbformat_minor": 2
}
