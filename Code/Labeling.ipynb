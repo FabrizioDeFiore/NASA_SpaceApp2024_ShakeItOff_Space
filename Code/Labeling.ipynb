{
 "cells": [
  {
   "cell_type": "code",
   "execution_count": 1,
   "metadata": {},
   "outputs": [],
   "source": [
    "import os\n",
    "import pandas as pd\n",
    "import numpy as np\n",
    "import tensorflow as tf\n",
    "from datetime import datetime\n",
    "\n",
    "# Example folder path\n",
    "data_path = '../NASAResources/space_apps_2024_seismic_detection/data/lunar/training/data/S12_GradeA/xa.s12.00.mhz.1970-04-25HR00_evid00006.csv'\n",
    "# Load the catalog (starting points of quakes)\n",
    "catalog_path = '../NASAResources/space_apps_2024_seismic_detection/data/lunar/training/catalogs/apollo12_catalog_GradeA_final.csv'\n",
    "catalog = pd.read_csv(catalog_path)\n",
    "data = pd.read_csv(data_path)"
   ]
  },
  {
   "cell_type": "code",
   "execution_count": 2,
   "metadata": {},
   "outputs": [],
   "source": [
    "# Function to reformat the absolute time by setting the fractional seconds to .00000\n",
    "def reformat_abs_time(time_str):\n",
    "    dt = datetime.strptime(time_str, '%Y-%m-%dT%H:%M:%S.%f')\n",
    "    reformatted_time = dt.strftime('%Y-%m-%dT%H:%M:00') + '.000000'\n",
    "    return reformatted_time\n",
    "\n",
    "# Apply the reformatting function to the 'time_abs' column\n",
    "data['time_abs'] = data['time_abs(%Y-%m-%dT%H:%M:%S.%f)'].apply(reformat_abs_time)\n",
    "\n",
    "# Processing data folder\n",
    "data['time_rel'] = data['time_rel(sec)'].astype(int)\n",
    "data['velocity'] = data['velocity(m/s)']\n",
    "\n",
    "features = data[['time_rel', 'velocity', 'time_abs']]\n",
    "\n",
    "catalog['time_rel'] = catalog['time_rel(sec)'].astype(int)\n",
    "catalog['time_abs'] = catalog['time_abs(%Y-%m-%dT%H:%M:%S.%f)']\n"
   ]
  },
  {
   "cell_type": "code",
   "execution_count": 3,
   "metadata": {},
   "outputs": [
    {
     "name": "stdout",
     "output_type": "stream",
     "text": [
      "73500\n"
     ]
    }
   ],
   "source": [
    "print(data['time_rel'].iloc[486944])"
   ]
  },
  {
   "cell_type": "code",
   "execution_count": 4,
   "metadata": {},
   "outputs": [
    {
     "name": "stdout",
     "output_type": "stream",
     "text": [
      "      time_abs(%Y-%m-%dT%H:%M:%S.%f)  time_rel(sec)  velocity(m/s)  \\\n",
      "29415     1970-04-25T01:14:00.196000    4440.000000   2.193395e-10   \n",
      "29416     1970-04-25T01:14:00.346943    4440.150943   1.753184e-10   \n",
      "29417     1970-04-25T01:14:00.497887    4440.301887   5.067076e-11   \n",
      "29418     1970-04-25T01:14:00.648830    4440.452830  -8.193815e-11   \n",
      "29419     1970-04-25T01:14:00.799774    4440.603774  -1.587732e-10   \n",
      "29420     1970-04-25T01:14:00.950717    4440.754717  -1.636253e-10   \n",
      "29421     1970-04-25T01:14:01.101660    4440.905660  -1.298771e-10   \n",
      "\n",
      "                         time_abs  time_rel      velocity  \n",
      "29415  1970-04-25T01:14:00.000000      4440  2.193395e-10  \n",
      "29416  1970-04-25T01:14:00.000000      4440  1.753184e-10  \n",
      "29417  1970-04-25T01:14:00.000000      4440  5.067076e-11  \n",
      "29418  1970-04-25T01:14:00.000000      4440 -8.193815e-11  \n",
      "29419  1970-04-25T01:14:00.000000      4440 -1.587732e-10  \n",
      "29420  1970-04-25T01:14:00.000000      4440 -1.636253e-10  \n",
      "29421  1970-04-25T01:14:00.000000      4440 -1.298771e-10  \n"
     ]
    }
   ],
   "source": [
    "quake_start_times_rel = catalog['time_rel'].to_numpy()\n",
    "possible_quake_start_times_rel = data['time_rel'].to_numpy()\n",
    "quake_start_times_abs = catalog['time_abs'].to_numpy()\n",
    "possible_quake_start_times_abs = data['time_abs'].to_numpy()\n",
    "\n",
    "def label_data(data, catalog):  \n",
    "    # labels_rel = np.isin(possible_quake_start_times_rel, quake_start_times_rel )\n",
    "    # labels_abs = np.isin(possible_quake_start_times_abs, quake_start_times_abs)\n",
    "    # matching_values_rel = possible_quake_start_times_rel[labels_rel]\n",
    "    # matching_values_abs = possible_quake_start_times_abs[labels_abs]\n",
    "    # indexes_of_ones = np.where(labels_rel == 1)[0]\n",
    "\n",
    "    # Create a boolean mask for matching time_rel\n",
    "    mask_rel = data['time_rel'].isin(catalog['time_rel'])\n",
    "    # Filter data and catalog based on the mask\n",
    "    filtered_data = data[mask_rel]\n",
    "    filtered_catalog = catalog[catalog['time_rel'].isin(filtered_data['time_rel'])]\n",
    "    # Create a boolean mask for matching time_abs in the filtered data\n",
    "    mask_abs = filtered_data.apply(lambda row: row['time_abs'] in filtered_catalog[filtered_catalog['time_rel'] == row['time_rel']]['time_abs'].values, axis=1)\n",
    "    # Initialize labels array with zeros\n",
    "    labels = np.zeros(len(data), dtype=int)\n",
    "    # Set labels to 1 where both masks are True\n",
    "    labels[mask_rel[mask_rel].index[mask_abs]] = 1\n",
    "    \n",
    "    return labels\n",
    "\n",
    "# Apply labeling\n",
    "labels = label_data(data, catalog)\n",
    "#print(labels)\n",
    "# Print the values corresponding to the 7 matches\n",
    "matching_rows = data[labels == 1]\n",
    "print(matching_rows)\n",
    "\n"
   ]
  },
  {
   "cell_type": "code",
   "execution_count": 5,
   "metadata": {},
   "outputs": [
    {
     "name": "stdout",
     "output_type": "stream",
     "text": [
      "7\n"
     ]
    }
   ],
   "source": [
    "quake_start_count = np.sum(labels)\n",
    "print(quake_start_count)"
   ]
  }
 ],
 "metadata": {
  "kernelspec": {
   "display_name": "Python 3",
   "language": "python",
   "name": "python3"
  },
  "language_info": {
   "codemirror_mode": {
    "name": "ipython",
    "version": 3
   },
   "file_extension": ".py",
   "mimetype": "text/x-python",
   "name": "python",
   "nbconvert_exporter": "python",
   "pygments_lexer": "ipython3",
   "version": "3.12.7"
  }
 },
 "nbformat": 4,
 "nbformat_minor": 2
}
